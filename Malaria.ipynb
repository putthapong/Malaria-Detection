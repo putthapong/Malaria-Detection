{
  "cells": [
    {
      "cell_type": "code",
      "execution_count": 1,
      "metadata": {
        "colab": {
          "base_uri": "https://localhost:8080/"
        },
        "id": "SOeG3Wv41hyQ",
        "outputId": "c2c3e931-612f-4a46-fc48-ceb5d5d9c406"
      },
      "outputs": [
        {
          "output_type": "stream",
          "name": "stdout",
          "text": [
            "Mounted at /content/drive\n",
            "/content/drive/MyDrive/Segmentation\n"
          ]
        }
      ],
      "source": [
        "from google.colab import drive\n",
        "drive.mount('/content/drive')\n",
        "%cd /content/drive/MyDrive/Segmentation"
      ]
    },
    {
      "cell_type": "code",
      "source": [
        "!pip install torchmetrics"
      ],
      "metadata": {
        "colab": {
          "base_uri": "https://localhost:8080/"
        },
        "id": "uXF-9s0Me4Zj",
        "outputId": "4bbcbe85-9168-4219-b05e-c5b3f98d819c"
      },
      "execution_count": 32,
      "outputs": [
        {
          "output_type": "stream",
          "name": "stdout",
          "text": [
            "Looking in indexes: https://pypi.org/simple, https://us-python.pkg.dev/colab-wheels/public/simple/\n",
            "Collecting torchmetrics\n",
            "  Downloading torchmetrics-0.11.4-py3-none-any.whl (519 kB)\n",
            "\u001b[2K     \u001b[90m━━━━━━━━━━━━━━━━━━━━━━━━━━━━━━━━━━━━━━━\u001b[0m \u001b[32m519.2/519.2 KB\u001b[0m \u001b[31m9.3 MB/s\u001b[0m eta \u001b[36m0:00:00\u001b[0m\n",
            "\u001b[?25hRequirement already satisfied: numpy>=1.17.2 in /usr/local/lib/python3.9/dist-packages (from torchmetrics) (1.22.4)\n",
            "Requirement already satisfied: torch>=1.8.1 in /usr/local/lib/python3.9/dist-packages (from torchmetrics) (1.13.1+cu116)\n",
            "Requirement already satisfied: packaging in /usr/local/lib/python3.9/dist-packages (from torchmetrics) (23.0)\n",
            "Requirement already satisfied: typing-extensions in /usr/local/lib/python3.9/dist-packages (from torch>=1.8.1->torchmetrics) (4.5.0)\n",
            "Installing collected packages: torchmetrics\n",
            "Successfully installed torchmetrics-0.11.4\n"
          ]
        }
      ]
    },
    {
      "cell_type": "code",
      "execution_count": 61,
      "metadata": {
        "id": "ameSj2r05Ayk"
      },
      "outputs": [],
      "source": [
        "import pandas as pd \n",
        "import matplotlib.pyplot as plt\n",
        "import os\n",
        "from tqdm import tqdm\n",
        "from sklearn.preprocessing import LabelEncoder\n",
        "import torch\n",
        "from torchvision import datasets, models, transforms\n",
        "import torchvision\n",
        "import torch.nn as nn\n",
        "from torch.nn import functional as F\n",
        "import torch.optim as optim\n",
        "from torchvision.models import resnet50, ResNet50_Weights\n",
        "import numpy as np\n",
        "import requests\n",
        "from PIL import Image\n",
        "import random\n",
        "from torchvision.io import read_image\n",
        "import torch\n",
        "from torch.utils.data import Dataset,DataLoader\n",
        "from torchvision.transforms import ToTensor\n",
        "from skimage import io, transform\n",
        "import random\n",
        "import torch.nn.functional as Fun\n",
        "from torchmetrics import Accuracy\n",
        "from sklearn.metrics import classification_report, confusion_matrix,f1_score\n",
        "import seaborn as sb"
      ]
    },
    {
      "cell_type": "code",
      "execution_count": 3,
      "metadata": {
        "colab": {
          "base_uri": "https://localhost:8080/"
        },
        "id": "b6GhDih058Zc",
        "outputId": "496242e3-d3f6-44dd-8ea2-c2b0998ea97b"
      },
      "outputs": [
        {
          "output_type": "stream",
          "name": "stdout",
          "text": [
            "'Detecting Malaria'   Malaria.ipynb   model.pt\t models.pt\n"
          ]
        }
      ],
      "source": [
        "!ls"
      ]
    },
    {
      "cell_type": "code",
      "execution_count": 7,
      "metadata": {
        "id": "JcU6-3Hp1Xtx"
      },
      "outputs": [],
      "source": [
        "classes = ['Parasitized','Uninfected']\n",
        "path = '/content/drive/MyDrive/Segmentation/Detecting Malaria/input/cell_images'"
      ]
    },
    {
      "cell_type": "code",
      "execution_count": 8,
      "metadata": {
        "id": "SCFWZ01k3mGv"
      },
      "outputs": [],
      "source": [
        "def create_data(path,classes):\n",
        "  path_image,labels = [],[]\n",
        "  for cls in classes:\n",
        "    path_class = os.path.join(path, cls)\n",
        "    for item in tqdm(os.listdir(path_class)):\n",
        "      if item.split(\".\")[-1] in ['png','jpeg','jpg']:\n",
        "        path_image.append(os.path.join(path_class,item))\n",
        "        labels.append(cls)\n",
        "      else:\n",
        "        print(item)\n",
        "        continue\n",
        "  return path_image,labels"
      ]
    },
    {
      "cell_type": "code",
      "execution_count": 9,
      "metadata": {
        "colab": {
          "base_uri": "https://localhost:8080/"
        },
        "id": "McoATOBT5wyH",
        "outputId": "f683434f-83ca-4370-b859-f41b22900e40"
      },
      "outputs": [
        {
          "output_type": "stream",
          "name": "stderr",
          "text": [
            "100%|██████████| 13782/13782 [00:00<00:00, 485111.60it/s]\n"
          ]
        },
        {
          "output_type": "stream",
          "name": "stdout",
          "text": [
            "Thumbs.db\n"
          ]
        },
        {
          "output_type": "stream",
          "name": "stderr",
          "text": [
            "100%|██████████| 13778/13778 [00:00<00:00, 570126.09it/s]"
          ]
        },
        {
          "output_type": "stream",
          "name": "stdout",
          "text": [
            "Thumbs.db\n"
          ]
        },
        {
          "output_type": "stream",
          "name": "stderr",
          "text": [
            "\n"
          ]
        }
      ],
      "source": [
        "path_image,labels = create_data(path,classes)\n",
        "temp = list(zip(path_image,labels))\n",
        "random.shuffle(temp)\n",
        "path_image,labels = zip(*temp)\n",
        "path_image,labels = list(path_image), list(labels)"
      ]
    },
    {
      "cell_type": "code",
      "execution_count": null,
      "metadata": {
        "id": "mGFZ39G7UCmP"
      },
      "outputs": [],
      "source": [
        "path_image[:2]"
      ]
    },
    {
      "cell_type": "code",
      "execution_count": null,
      "metadata": {
        "id": "52cbWDkcUJjC"
      },
      "outputs": [],
      "source": [
        "labels[:2]"
      ]
    },
    {
      "cell_type": "code",
      "execution_count": 12,
      "metadata": {
        "id": "aZty0RuBKDTN"
      },
      "outputs": [],
      "source": [
        "class CustomImageDataset(Dataset):\n",
        "    def __init__(self, img_labels, label,transform=None, target_transform=None):\n",
        "        self.img_labels = img_labels\n",
        "        self.transform = transform\n",
        "        self.label = label\n",
        "        self.target_transform = target_transform\n",
        "        \n",
        "    def __len__(self):\n",
        "        return len(self.img_labels)\n",
        "\n",
        "    def __getitem__(self, idx):\n",
        "        img_path = self.img_labels[idx]\n",
        "        image = Image.open(img_path).convert('RGB')\n",
        "        label = self.label[idx]\n",
        "        if self.transform:\n",
        "            image = self.transform(image)\n",
        "        if self.target_transform:\n",
        "            label = self.target_transform(label)\n",
        "        return {\"data\":image, \"label\":label,'img_idx':idx,'path':img_path}"
      ]
    },
    {
      "cell_type": "code",
      "execution_count": 13,
      "metadata": {
        "colab": {
          "base_uri": "https://localhost:8080/"
        },
        "id": "xEguj301SYLK",
        "outputId": "adc571a3-2ca0-44ee-a0c2-38639a3102e9"
      },
      "outputs": [
        {
          "output_type": "execute_result",
          "data": {
            "text/plain": [
              "array([1, 1, 0, ..., 1, 0, 0])"
            ]
          },
          "metadata": {},
          "execution_count": 13
        }
      ],
      "source": [
        "label_encoder = LabelEncoder()\n",
        "labels = label_encoder.fit_transform(labels)\n",
        "labels"
      ]
    },
    {
      "cell_type": "code",
      "execution_count": 14,
      "metadata": {
        "colab": {
          "base_uri": "https://localhost:8080/"
        },
        "id": "hUWVdfs-TI7G",
        "outputId": "df5935b6-40ec-4945-c4de-df31b314b7ae"
      },
      "outputs": [
        {
          "output_type": "execute_result",
          "data": {
            "text/plain": [
              "27558"
            ]
          },
          "metadata": {},
          "execution_count": 14
        }
      ],
      "source": [
        "lengths = len(labels)\n",
        "lengths"
      ]
    },
    {
      "cell_type": "code",
      "execution_count": 15,
      "metadata": {
        "id": "UYojPw1gUqP9"
      },
      "outputs": [],
      "source": [
        "img_labels_train = path_image[:int(lengths*0.9)]  \n",
        "img_labels_test = path_image[int(lengths*0.9):]\n",
        "labels = torch.tensor(labels).float()\n",
        "labels_train = labels[:int(lengths*0.9)]\n",
        "labels_test = labels[int(lengths*0.9):]"
      ]
    },
    {
      "cell_type": "code",
      "execution_count": 16,
      "metadata": {
        "colab": {
          "base_uri": "https://localhost:8080/"
        },
        "id": "zKvtdphtUuh5",
        "outputId": "06ad89ba-ca61-41e1-caaf-d69ea4dc5bd3"
      },
      "outputs": [
        {
          "output_type": "execute_result",
          "data": {
            "text/plain": [
              "(24802, 2756)"
            ]
          },
          "metadata": {},
          "execution_count": 16
        }
      ],
      "source": [
        "from torchvision import datasets, models, transforms\n",
        "train_datasets = CustomImageDataset(img_labels_train,labels_train,\n",
        "                                    transform=transforms.Compose([\n",
        "                                               ToTensor(),\n",
        "                                               transforms.Resize((224,224)),\n",
        "                                               \n",
        "                                           ]))\n",
        "test_datasets = CustomImageDataset(img_labels_test,labels_test,\n",
        "                                   transform=transforms.Compose([\n",
        "                                               ToTensor(),\n",
        "                                               transforms.Resize((224,224)),\n",
        "                                               \n",
        "                                           ]))\n",
        "len(train_datasets),len(test_datasets)"
      ]
    },
    {
      "cell_type": "code",
      "execution_count": 17,
      "metadata": {
        "id": "sQMuh-DKUzHf"
      },
      "outputs": [],
      "source": [
        "inverts = label_encoder.inverse_transform((labels.numpy()).astype(int))\n",
        "target_dict = {}\n",
        "labels_num = labels.numpy()\n",
        "for i in range(len(labels.numpy())):\n",
        "  target_dict[labels_num[i]] = inverts[i]"
      ]
    },
    {
      "cell_type": "code",
      "execution_count": 18,
      "metadata": {
        "colab": {
          "base_uri": "https://localhost:8080/"
        },
        "id": "x7nde7oNVNeu",
        "outputId": "aacf4157-8d7b-4783-8d9a-98b2789bf6c3"
      },
      "outputs": [
        {
          "output_type": "execute_result",
          "data": {
            "text/plain": [
              "{1.0: 'Uninfected', 0.0: 'Parasitized'}"
            ]
          },
          "metadata": {},
          "execution_count": 18
        }
      ],
      "source": [
        "target_dict"
      ]
    },
    {
      "cell_type": "code",
      "execution_count": 19,
      "metadata": {
        "colab": {
          "base_uri": "https://localhost:8080/",
          "height": 266
        },
        "id": "uF4P2-tzVOsu",
        "outputId": "09e4de49-8723-40cb-96c0-4e311f546b69"
      },
      "outputs": [
        {
          "output_type": "stream",
          "name": "stdout",
          "text": [
            "0 torch.Size([3, 224, 224]) Uninfected /content/drive/MyDrive/Segmentation/Detecting Malaria/input/cell_images/Uninfected/C104P65ThinF_IMG_20150918_172053_cell_17.png\n",
            "1 torch.Size([3, 224, 224]) Uninfected /content/drive/MyDrive/Segmentation/Detecting Malaria/input/cell_images/Uninfected/C92P53ThinF_IMG_20150821_151224_cell_201.png\n",
            "2 torch.Size([3, 224, 224]) Parasitized /content/drive/MyDrive/Segmentation/Detecting Malaria/input/cell_images/Parasitized/C133P94ThinF_IMG_20151004_155721_cell_111.png\n",
            "3 torch.Size([3, 224, 224]) Parasitized /content/drive/MyDrive/Segmentation/Detecting Malaria/input/cell_images/Parasitized/C179P140ThinF_IMG_20151127_153453_cell_188.png\n"
          ]
        },
        {
          "output_type": "display_data",
          "data": {
            "text/plain": [
              "<Figure size 640x480 with 4 Axes>"
            ],
            "image/png": "[encoded data removed]"
          },
          "metadata": {}
        }
      ],
      "source": [
        "fig = plt.figure()\n",
        "\n",
        "for i in range(len(train_datasets)):\n",
        "    sample = train_datasets[i]\n",
        "\n",
        "    print(i, sample['data'].shape,target_dict[float(sample['label'].numpy())],sample['path'])\n",
        "\n",
        "    ax = plt.subplot(1, 4, i + 1)\n",
        "    plt.tight_layout()\n",
        "    ax.set_title('Sample #{}'.format(i))\n",
        "    ax.axis('off')\n",
        "    plt.imshow(sample['data'].permute(1, 2, 0))\n",
        "\n",
        "    if i == 3:\n",
        "        plt.show()\n",
        "        break"
      ]
    },
    {
      "cell_type": "code",
      "execution_count": 20,
      "metadata": {
        "id": "crEozoWtVQ2m"
      },
      "outputs": [],
      "source": [
        "dataloaders_train = DataLoader(train_datasets, batch_size=16,\n",
        "                        shuffle=True, num_workers=0)\n",
        "dataloaders_test = DataLoader(test_datasets, batch_size=16,\n",
        "                        shuffle=True, num_workers=0)"
      ]
    },
    {
      "cell_type": "code",
      "execution_count": 21,
      "metadata": {
        "colab": {
          "base_uri": "https://localhost:8080/"
        },
        "id": "ijPj-DKUVTPA",
        "outputId": "f24fc1a2-900d-468d-deb7-6ccec9b9d662"
      },
      "outputs": [
        {
          "output_type": "execute_result",
          "data": {
            "text/plain": [
              "device(type='cuda', index=0)"
            ]
          },
          "metadata": {},
          "execution_count": 21
        }
      ],
      "source": [
        "device = torch.device(\"cuda:0\" if torch.cuda.is_available() else \"cpu\")\n",
        "device"
      ]
    },
    {
      "cell_type": "code",
      "execution_count": 22,
      "metadata": {
        "colab": {
          "base_uri": "https://localhost:8080/",
          "height": 159,
          "referenced_widgets": [
            "cbb8499d34924c30aee165800b8aa73b",
            "eab432007b9e44f88a43a77b72df5ede",
            "56984e1a4c0a4232a7c0e4ea1c934a5a",
            "278a387f13f34086a007b946d7d64e98",
            "492efb7dbf7940fbae98c363c455ab6f",
            "35f9c83e81634748a31a6029fe4e6106",
            "015777fcca0f43858391bfdf58075239",
            "a59ad3ca8c0d4abdb0a6e7963c0179fe",
            "1fdce161344d4c24beb560ef779d1c93",
            "cd67586fe25049da9f9a76cfe9131805",
            "728c2cf109b34fa68e7219744ee854cd"
          ]
        },
        "id": "1eQ2Djz9VUOd",
        "outputId": "7bd12dc7-83c6-4737-f1a9-7d77e51e4d51"
      },
      "outputs": [
        {
          "output_type": "stream",
          "name": "stderr",
          "text": [
            "/usr/local/lib/python3.9/dist-packages/torchvision/models/_utils.py:208: UserWarning: The parameter 'pretrained' is deprecated since 0.13 and may be removed in the future, please use 'weights' instead.\n",
            "  warnings.warn(\n",
            "/usr/local/lib/python3.9/dist-packages/torchvision/models/_utils.py:223: UserWarning: Arguments other than a weight enum or `None` for 'weights' are deprecated since 0.13 and may be removed in the future. The current behavior is equivalent to passing `weights=ResNet50_Weights.IMAGENET1K_V1`. You can also use `weights=ResNet50_Weights.DEFAULT` to get the most up-to-date weights.\n",
            "  warnings.warn(msg)\n",
            "Downloading: \"https://download.pytorch.org/models/resnet50-0676ba61.pth\" to /root/.cache/torch/hub/checkpoints/resnet50-0676ba61.pth\n"
          ]
        },
        {
          "output_type": "display_data",
          "data": {
            "text/plain": [
              "  0%|          | 0.00/97.8M [00:00<?, ?B/s]"
            ],
            "application/vnd.jupyter.widget-view+json": {
              "version_major": 2,
              "version_minor": 0,
              "model_id": "cbb8499d34924c30aee165800b8aa73b"
            }
          },
          "metadata": {}
        }
      ],
      "source": [
        "model = models.resnet50(pretrained=True).to(device)\n",
        "    \n",
        "for param in model.parameters():\n",
        "    param.requires_grad = False   \n",
        "    \n",
        "model.fc = nn.Sequential(\n",
        "               nn.Linear(2048, 128),\n",
        "               nn.ReLU(inplace=True),\n",
        "               nn.Linear(128, len(classes))).to(device)"
      ]
    },
    {
      "cell_type": "code",
      "execution_count": 23,
      "metadata": {
        "id": "vpydBKbAVVYe"
      },
      "outputs": [],
      "source": [
        "criterion = nn.CrossEntropyLoss()\n",
        "optimizer = optim.Adam(model.fc.parameters(),lr=1e-4,weight_decay=0.005)"
      ]
    },
    {
      "cell_type": "code",
      "execution_count": 24,
      "metadata": {
        "id": "EVAyXt2hVWrU"
      },
      "outputs": [],
      "source": [
        "def train_model(model, criterion, optimizer, num_epochs=3):\n",
        "    for epoch in range(num_epochs):\n",
        "        print('Epoch {}/{}'.format(epoch+1, num_epochs))\n",
        "        print('-' * 10)\n",
        "\n",
        "        for phase in ['train', 'validation']:\n",
        "            running_loss = 0.0\n",
        "            running_corrects = 0\n",
        "            if phase == 'train':\n",
        "                model.train()\n",
        "                for ex in dataloaders_train:\n",
        "                  inputs = ex['data'].to(device)\n",
        "                  labels = ex['label']\n",
        "                  labels = labels.type(torch.LongTensor).to(device)\n",
        "                  outputs = model(inputs)\n",
        "                  loss = criterion(outputs, labels)\n",
        "                  optimizer.zero_grad()\n",
        "                  loss.backward()\n",
        "                  optimizer.step()\n",
        "                  _, preds = torch.max(outputs, 1)\n",
        "                  running_loss += loss.item() * inputs.size(0)\n",
        "                  running_corrects += torch.sum(preds == labels.data)\n",
        "                epoch_loss = running_loss / len(train_datasets)\n",
        "                epoch_acc = running_corrects / len(train_datasets)\n",
        "                print('Train : {} loss: {:.4f}, acc: {:.4f}'.format(phase,epoch_loss,epoch_acc))\n",
        "    \n",
        "            else:\n",
        "                model.eval()\n",
        "                for ex in dataloaders_test:\n",
        "                  inputs = ex['data'].to(device)\n",
        "                  labels = ex['label']\n",
        "                  labels = labels.type(torch.LongTensor).to(device)\n",
        "                  outputs = model(inputs)\n",
        "                  loss = criterion(outputs, labels)\n",
        "                  \n",
        "                  _, preds = torch.max(outputs, 1)\n",
        "                  prob = nn.Softmax(dim=1)(outputs) # prob\n",
        "                  running_loss += loss.item() * inputs.size(0)\n",
        "                  running_corrects += torch.sum(preds == labels.data)\n",
        "                epoch_loss = running_loss / len(test_datasets)\n",
        "                epoch_acc = running_corrects / len(test_datasets)\n",
        "                print('Test : {} loss: {:.4f}, acc: {:.4f}'.format(phase,epoch_loss,epoch_acc))\n",
        "\n",
        "    return model"
      ]
    },
    {
      "cell_type": "code",
      "execution_count": 25,
      "metadata": {
        "colab": {
          "base_uri": "https://localhost:8080/"
        },
        "id": "dvTatER1VjDH",
        "outputId": "3dba1bb8-0dd4-4a01-dc07-560acf4a71e4"
      },
      "outputs": [
        {
          "output_type": "stream",
          "name": "stdout",
          "text": [
            "Epoch 1/20\n",
            "----------\n",
            "Train : train loss: 0.3226, acc: 0.8655\n",
            "Test : validation loss: 0.2370, acc: 0.9057\n",
            "Epoch 2/20\n",
            "----------\n",
            "Train : train loss: 0.2663, acc: 0.8920\n",
            "Test : validation loss: 0.2217, acc: 0.9191\n",
            "Epoch 3/20\n",
            "----------\n",
            "Train : train loss: 0.2528, acc: 0.9000\n",
            "Test : validation loss: 0.2025, acc: 0.9220\n",
            "Epoch 4/20\n",
            "----------\n",
            "Train : train loss: 0.2460, acc: 0.9012\n",
            "Test : validation loss: 0.2112, acc: 0.9180\n",
            "Epoch 5/20\n",
            "----------\n",
            "Train : train loss: 0.2427, acc: 0.9046\n",
            "Test : validation loss: 0.2386, acc: 0.9028\n",
            "Epoch 6/20\n",
            "----------\n",
            "Train : train loss: 0.2394, acc: 0.9055\n",
            "Test : validation loss: 0.1886, acc: 0.9307\n",
            "Epoch 7/20\n",
            "----------\n",
            "Train : train loss: 0.2292, acc: 0.9102\n",
            "Test : validation loss: 0.1805, acc: 0.9365\n",
            "Epoch 8/20\n",
            "----------\n",
            "Train : train loss: 0.2233, acc: 0.9120\n",
            "Test : validation loss: 0.1803, acc: 0.9358\n",
            "Epoch 9/20\n",
            "----------\n",
            "Train : train loss: 0.2280, acc: 0.9090\n",
            "Test : validation loss: 0.1917, acc: 0.9311\n",
            "Epoch 10/20\n",
            "----------\n",
            "Train : train loss: 0.2186, acc: 0.9136\n",
            "Test : validation loss: 0.2064, acc: 0.9169\n",
            "Epoch 11/20\n",
            "----------\n",
            "Train : train loss: 0.2204, acc: 0.9125\n",
            "Test : validation loss: 0.1686, acc: 0.9409\n",
            "Epoch 12/20\n",
            "----------\n",
            "Train : train loss: 0.2143, acc: 0.9168\n",
            "Test : validation loss: 0.1892, acc: 0.9282\n",
            "Epoch 13/20\n",
            "----------\n",
            "Train : train loss: 0.2141, acc: 0.9142\n",
            "Test : validation loss: 0.1740, acc: 0.9380\n",
            "Epoch 14/20\n",
            "----------\n",
            "Train : train loss: 0.2130, acc: 0.9185\n",
            "Test : validation loss: 0.1785, acc: 0.9409\n",
            "Epoch 15/20\n",
            "----------\n",
            "Train : train loss: 0.2124, acc: 0.9186\n",
            "Test : validation loss: 0.1966, acc: 0.9242\n",
            "Epoch 16/20\n",
            "----------\n",
            "Train : train loss: 0.2043, acc: 0.9215\n",
            "Test : validation loss: 0.1677, acc: 0.9401\n",
            "Epoch 17/20\n",
            "----------\n",
            "Train : train loss: 0.2059, acc: 0.9199\n",
            "Test : validation loss: 0.1640, acc: 0.9419\n",
            "Epoch 18/20\n",
            "----------\n",
            "Train : train loss: 0.2052, acc: 0.9200\n",
            "Test : validation loss: 0.1749, acc: 0.9340\n",
            "Epoch 19/20\n",
            "----------\n",
            "Train : train loss: 0.2029, acc: 0.9212\n",
            "Test : validation loss: 0.1694, acc: 0.9405\n",
            "Epoch 20/20\n",
            "----------\n",
            "Train : train loss: 0.2038, acc: 0.9192\n",
            "Test : validation loss: 0.1633, acc: 0.9419\n"
          ]
        }
      ],
      "source": [
        "model_trained = train_model(model.to(device), criterion, optimizer, num_epochs=20)"
      ]
    },
    {
      "cell_type": "code",
      "execution_count": 26,
      "metadata": {
        "id": "FGg6shJeVkoa"
      },
      "outputs": [],
      "source": [
        "torch.save(model,\"models.pt\")"
      ]
    },
    {
      "cell_type": "code",
      "execution_count": 34,
      "metadata": {
        "id": "7UGZOSGNNZup"
      },
      "outputs": [],
      "source": [
        "mdl = torch.load(\"models.pt\")"
      ]
    },
    {
      "cell_type": "code",
      "execution_count": 60,
      "metadata": {
        "id": "_FBBj-fA1lpM",
        "colab": {
          "base_uri": "https://localhost:8080/",
          "height": 1000
        },
        "outputId": "bc620622-f356-4adc-999d-02d9fcb70cbd"
      },
      "outputs": [
        {
          "output_type": "stream",
          "name": "stdout",
          "text": [
            "---------------------------Train Classification Report---------------------------\n"
          ]
        },
        {
          "output_type": "stream",
          "name": "stderr",
          "text": [
            "  0%|          | 0/1551 [00:00<?, ?it/s]<ipython-input-60-32c88eb45c0f>:9: UserWarning: To copy construct from a tensor, it is recommended to use sourceTensor.clone().detach() or sourceTensor.clone().detach().requires_grad_(True), rather than torch.tensor(sourceTensor).\n",
            "  y = torch.tensor(ex['label']).to(device)\n",
            "100%|██████████| 1551/1551 [02:19<00:00, 11.11it/s]"
          ]
        },
        {
          "output_type": "stream",
          "name": "stdout",
          "text": [
            "              precision    recall  f1-score   support\n",
            "\n",
            "         0.0       0.92      0.94      0.93     12420\n",
            "         1.0       0.94      0.92      0.93     12382\n",
            "\n",
            "    accuracy                           0.93     24802\n",
            "   macro avg       0.93      0.93      0.93     24802\n",
            "weighted avg       0.93      0.93      0.93     24802\n",
            "\n",
            "---------------------------Train Confusion Matrix---------------------------\n"
          ]
        },
        {
          "output_type": "stream",
          "name": "stderr",
          "text": [
            "\n"
          ]
        },
        {
          "output_type": "execute_result",
          "data": {
            "text/plain": [
              "<Axes: >"
            ]
          },
          "metadata": {},
          "execution_count": 60
        },
        {
          "output_type": "display_data",
          "data": {
            "text/plain": [
              "<Figure size 1000x1000 with 2 Axes>"
            ],
            "image/png": "[encoded data removed]"
          },
          "metadata": {}
        }
      ],
      "source": [
        "print('---------------------------Train Classification Report---------------------------')\n",
        "mdl.train()\n",
        "p, t = [], []\n",
        "\n",
        "metric = Accuracy(task=\"multiclass\", num_classes=2).to('cuda')\n",
        "cst = 0\n",
        "for ex in tqdm(dataloaders_train):\n",
        "    x = ex['data'].to(device)\n",
        "    y = torch.tensor(ex['label']).to(device)\n",
        "    output = mdl(x).to(device)\n",
        "    _, preds = torch.max(output, 1)\n",
        "    p += output.argmax(dim=1).detach().cpu().tolist()\n",
        "    t += y.detach().cpu().tolist()\n",
        "    acc = metric(preds, y)\n",
        "acc = metric.compute()\n",
        "p, t = np.array(p), np.array(t)\n",
        "print(classification_report(t, p))\n",
        "print('---------------------------Train Confusion Matrix---------------------------')\n",
        "plt.figure(figsize=(10,10))\n",
        "sb.heatmap(confusion_matrix(t, p), cmap='Blues', annot=True, fmt='g')"
      ]
    },
    {
      "cell_type": "code",
      "source": [
        "print('---------------------------Test Classification Report---------------------------')\n",
        "mdl.eval()\n",
        "p, t = [], []\n",
        "\n",
        "metric = Accuracy(task=\"multiclass\", num_classes=2).to('cuda')\n",
        "cst = 0\n",
        "for ex in tqdm(dataloaders_test):\n",
        "    x = ex['data'].to(device)\n",
        "    y = torch.tensor(ex['label']).to(device)\n",
        "    output = mdl(x).to(device)\n",
        "    _, preds = torch.max(output, 1)\n",
        "    p += output.argmax(dim=1).detach().cpu().tolist()\n",
        "    t += y.detach().cpu().tolist()\n",
        "    acc = metric(preds, y)\n",
        "acc = metric.compute()\n",
        "p, t = np.array(p), np.array(t)\n",
        "print(classification_report(t, p))\n",
        "print('---------------------------Test Confusion Matrix---------------------------')\n",
        "plt.figure(figsize=(10,10))\n",
        "sb.heatmap(confusion_matrix(t, p), cmap='Blues', annot=True, fmt='g')"
      ],
      "metadata": {
        "colab": {
          "base_uri": "https://localhost:8080/",
          "height": 1000
        },
        "id": "LO9NVMGhdeV_",
        "outputId": "86b18a65-b84d-4c13-bcff-3c185033b233"
      },
      "execution_count": 59,
      "outputs": [
        {
          "output_type": "stream",
          "name": "stdout",
          "text": [
            "---------------------------Test Classification Report---------------------------\n"
          ]
        },
        {
          "output_type": "stream",
          "name": "stderr",
          "text": [
            "  0%|          | 0/173 [00:00<?, ?it/s]<ipython-input-59-50347adc40a7>:9: UserWarning: To copy construct from a tensor, it is recommended to use sourceTensor.clone().detach() or sourceTensor.clone().detach().requires_grad_(True), rather than torch.tensor(sourceTensor).\n",
            "  y = torch.tensor(ex['label']).to(device)\n",
            "100%|██████████| 173/173 [00:14<00:00, 11.83it/s]\n"
          ]
        },
        {
          "output_type": "stream",
          "name": "stdout",
          "text": [
            "              precision    recall  f1-score   support\n",
            "\n",
            "         0.0       0.92      0.97      0.94      1361\n",
            "         1.0       0.97      0.91      0.94      1395\n",
            "\n",
            "    accuracy                           0.94      2756\n",
            "   macro avg       0.94      0.94      0.94      2756\n",
            "weighted avg       0.94      0.94      0.94      2756\n",
            "\n",
            "---------------------------Test Confusion Matrix---------------------------\n"
          ]
        },
        {
          "output_type": "execute_result",
          "data": {
            "text/plain": [
              "<Axes: >"
            ]
          },
          "metadata": {},
          "execution_count": 59
        },
        {
          "output_type": "display_data",
          "data": {
            "text/plain": [
              "<Figure size 1000x1000 with 2 Axes>"
            ],
            "image/png": "[encoded data removed]"
          },
          "metadata": {}
        }
      ]
    },
    {
      "cell_type": "code",
      "source": [],
      "metadata": {
        "id": "VSv1bcy7lX9W"
      },
      "execution_count": null,
      "outputs": []
    }
  ],
  "metadata": {
    "accelerator": "GPU",
    "colab": {
      "machine_shape": "hm",
      "provenance": []
    },
    "gpuClass": "standard",
    "kernelspec": {
      "display_name": "Python 3",
      "name": "python3"
    },
    "language_info": {
      "name": "python"
    },
    "widgets": {
      "application/vnd.jupyter.widget-state+json": {
        "cbb8499d34924c30aee165800b8aa73b": {
          "model_module": "@jupyter-widgets/controls",
          "model_name": "HBoxModel",
          "model_module_version": "1.5.0",
          "state": {
            "_dom_classes": [],
            "_model_module": "@jupyter-widgets/controls",
            "_model_module_version": "1.5.0",
            "_model_name": "HBoxModel",
            "_view_count": null,
            "_view_module": "@jupyter-widgets/controls",
            "_view_module_version": "1.5.0",
            "_view_name": "HBoxView",
            "box_style": "",
            "children": [
              "IPY_MODEL_eab432007b9e44f88a43a77b72df5ede",
              "IPY_MODEL_56984e1a4c0a4232a7c0e4ea1c934a5a",
              "IPY_MODEL_278a387f13f34086a007b946d7d64e98"
            ],
            "layout": "IPY_MODEL_492efb7dbf7940fbae98c363c455ab6f"
          }
        },
        "eab432007b9e44f88a43a77b72df5ede": {
          "model_module": "@jupyter-widgets/controls",
          "model_name": "HTMLModel",
          "model_module_version": "1.5.0",
          "state": {
            "_dom_classes": [],
            "_model_module": "@jupyter-widgets/controls",
            "_model_module_version": "1.5.0",
            "_model_name": "HTMLModel",
            "_view_count": null,
            "_view_module": "@jupyter-widgets/controls",
            "_view_module_version": "1.5.0",
            "_view_name": "HTMLView",
            "description": "",
            "description_tooltip": null,
            "layout": "IPY_MODEL_35f9c83e81634748a31a6029fe4e6106",
            "placeholder": "​",
            "style": "IPY_MODEL_015777fcca0f43858391bfdf58075239",
            "value": "100%"
          }
        },
        "56984e1a4c0a4232a7c0e4ea1c934a5a": {
          "model_module": "@jupyter-widgets/controls",
          "model_name": "FloatProgressModel",
          "model_module_version": "1.5.0",
          "state": {
            "_dom_classes": [],
            "_model_module": "@jupyter-widgets/controls",
            "_model_module_version": "1.5.0",
            "_model_name": "FloatProgressModel",
            "_view_count": null,
            "_view_module": "@jupyter-widgets/controls",
            "_view_module_version": "1.5.0",
            "_view_name": "ProgressView",
            "bar_style": "success",
            "description": "",
            "description_tooltip": null,
            "layout": "IPY_MODEL_a59ad3ca8c0d4abdb0a6e7963c0179fe",
            "max": 102530333,
            "min": 0,
            "orientation": "horizontal",
            "style": "IPY_MODEL_1fdce161344d4c24beb560ef779d1c93",
            "value": 102530333
          }
        },
        "278a387f13f34086a007b946d7d64e98": {
          "model_module": "@jupyter-widgets/controls",
          "model_name": "HTMLModel",
          "model_module_version": "1.5.0",
          "state": {
            "_dom_classes": [],
            "_model_module": "@jupyter-widgets/controls",
            "_model_module_version": "1.5.0",
            "_model_name": "HTMLModel",
            "_view_count": null,
            "_view_module": "@jupyter-widgets/controls",
            "_view_module_version": "1.5.0",
            "_view_name": "HTMLView",
            "description": "",
            "description_tooltip": null,
            "layout": "IPY_MODEL_cd67586fe25049da9f9a76cfe9131805",
            "placeholder": "​",
            "style": "IPY_MODEL_728c2cf109b34fa68e7219744ee854cd",
            "value": " 97.8M/97.8M [00:00&lt;00:00, 288MB/s]"
          }
        },
        "492efb7dbf7940fbae98c363c455ab6f": {
          "model_module": "@jupyter-widgets/base",
          "model_name": "LayoutModel",
          "model_module_version": "1.2.0",
          "state": {
            "_model_module": "@jupyter-widgets/base",
            "_model_module_version": "1.2.0",
            "_model_name": "LayoutModel",
            "_view_count": null,
            "_view_module": "@jupyter-widgets/base",
            "_view_module_version": "1.2.0",
            "_view_name": "LayoutView",
            "align_content": null,
            "align_items": null,
            "align_self": null,
            "border": null,
            "bottom": null,
            "display": null,
            "flex": null,
            "flex_flow": null,
            "grid_area": null,
            "grid_auto_columns": null,
            "grid_auto_flow": null,
            "grid_auto_rows": null,
            "grid_column": null,
            "grid_gap": null,
            "grid_row": null,
            "grid_template_areas": null,
            "grid_template_columns": null,
            "grid_template_rows": null,
            "height": null,
            "justify_content": null,
            "justify_items": null,
            "left": null,
            "margin": null,
            "max_height": null,
            "max_width": null,
            "min_height": null,
            "min_width": null,
            "object_fit": null,
            "object_position": null,
            "order": null,
            "overflow": null,
            "overflow_x": null,
            "overflow_y": null,
            "padding": null,
            "right": null,
            "top": null,
            "visibility": null,
            "width": null
          }
        },
        "35f9c83e81634748a31a6029fe4e6106": {
          "model_module": "@jupyter-widgets/base",
          "model_name": "LayoutModel",
          "model_module_version": "1.2.0",
          "state": {
            "_model_module": "@jupyter-widgets/base",
            "_model_module_version": "1.2.0",
            "_model_name": "LayoutModel",
            "_view_count": null,
            "_view_module": "@jupyter-widgets/base",
            "_view_module_version": "1.2.0",
            "_view_name": "LayoutView",
            "align_content": null,
            "align_items": null,
            "align_self": null,
            "border": null,
            "bottom": null,
            "display": null,
            "flex": null,
            "flex_flow": null,
            "grid_area": null,
            "grid_auto_columns": null,
            "grid_auto_flow": null,
            "grid_auto_rows": null,
            "grid_column": null,
            "grid_gap": null,
            "grid_row": null,
            "grid_template_areas": null,
            "grid_template_columns": null,
            "grid_template_rows": null,
            "height": null,
            "justify_content": null,
            "justify_items": null,
            "left": null,
            "margin": null,
            "max_height": null,
            "max_width": null,
            "min_height": null,
            "min_width": null,
            "object_fit": null,
            "object_position": null,
            "order": null,
            "overflow": null,
            "overflow_x": null,
            "overflow_y": null,
            "padding": null,
            "right": null,
            "top": null,
            "visibility": null,
            "width": null
          }
        },
        "015777fcca0f43858391bfdf58075239": {
          "model_module": "@jupyter-widgets/controls",
          "model_name": "DescriptionStyleModel",
          "model_module_version": "1.5.0",
          "state": {
            "_model_module": "@jupyter-widgets/controls",
            "_model_module_version": "1.5.0",
            "_model_name": "DescriptionStyleModel",
            "_view_count": null,
            "_view_module": "@jupyter-widgets/base",
            "_view_module_version": "1.2.0",
            "_view_name": "StyleView",
            "description_width": ""
          }
        },
        "a59ad3ca8c0d4abdb0a6e7963c0179fe": {
          "model_module": "@jupyter-widgets/base",
          "model_name": "LayoutModel",
          "model_module_version": "1.2.0",
          "state": {
            "_model_module": "@jupyter-widgets/base",
            "_model_module_version": "1.2.0",
            "_model_name": "LayoutModel",
            "_view_count": null,
            "_view_module": "@jupyter-widgets/base",
            "_view_module_version": "1.2.0",
            "_view_name": "LayoutView",
            "align_content": null,
            "align_items": null,
            "align_self": null,
            "border": null,
            "bottom": null,
            "display": null,
            "flex": null,
            "flex_flow": null,
            "grid_area": null,
            "grid_auto_columns": null,
            "grid_auto_flow": null,
            "grid_auto_rows": null,
            "grid_column": null,
            "grid_gap": null,
            "grid_row": null,
            "grid_template_areas": null,
            "grid_template_columns": null,
            "grid_template_rows": null,
            "height": null,
            "justify_content": null,
            "justify_items": null,
            "left": null,
            "margin": null,
            "max_height": null,
            "max_width": null,
            "min_height": null,
            "min_width": null,
            "object_fit": null,
            "object_position": null,
            "order": null,
            "overflow": null,
            "overflow_x": null,
            "overflow_y": null,
            "padding": null,
            "right": null,
            "top": null,
            "visibility": null,
            "width": null
          }
        },
        "1fdce161344d4c24beb560ef779d1c93": {
          "model_module": "@jupyter-widgets/controls",
          "model_name": "ProgressStyleModel",
          "model_module_version": "1.5.0",
          "state": {
            "_model_module": "@jupyter-widgets/controls",
            "_model_module_version": "1.5.0",
            "_model_name": "ProgressStyleModel",
            "_view_count": null,
            "_view_module": "@jupyter-widgets/base",
            "_view_module_version": "1.2.0",
            "_view_name": "StyleView",
            "bar_color": null,
            "description_width": ""
          }
        },
        "cd67586fe25049da9f9a76cfe9131805": {
          "model_module": "@jupyter-widgets/base",
          "model_name": "LayoutModel",
          "model_module_version": "1.2.0",
          "state": {
            "_model_module": "@jupyter-widgets/base",
            "_model_module_version": "1.2.0",
            "_model_name": "LayoutModel",
            "_view_count": null,
            "_view_module": "@jupyter-widgets/base",
            "_view_module_version": "1.2.0",
            "_view_name": "LayoutView",
            "align_content": null,
            "align_items": null,
            "align_self": null,
            "border": null,
            "bottom": null,
            "display": null,
            "flex": null,
            "flex_flow": null,
            "grid_area": null,
            "grid_auto_columns": null,
            "grid_auto_flow": null,
            "grid_auto_rows": null,
            "grid_column": null,
            "grid_gap": null,
            "grid_row": null,
            "grid_template_areas": null,
            "grid_template_columns": null,
            "grid_template_rows": null,
            "height": null,
            "justify_content": null,
            "justify_items": null,
            "left": null,
            "margin": null,
            "max_height": null,
            "max_width": null,
            "min_height": null,
            "min_width": null,
            "object_fit": null,
            "object_position": null,
            "order": null,
            "overflow": null,
            "overflow_x": null,
            "overflow_y": null,
            "padding": null,
            "right": null,
            "top": null,
            "visibility": null,
            "width": null
          }
        },
        "728c2cf109b34fa68e7219744ee854cd": {
          "model_module": "@jupyter-widgets/controls",
          "model_name": "DescriptionStyleModel",
          "model_module_version": "1.5.0",
          "state": {
            "_model_module": "@jupyter-widgets/controls",
            "_model_module_version": "1.5.0",
            "_model_name": "DescriptionStyleModel",
            "_view_count": null,
            "_view_module": "@jupyter-widgets/base",
            "_view_module_version": "1.2.0",
            "_view_name": "StyleView",
            "description_width": ""
          }
        }
      }
    }
  },
  "nbformat": 4,
  "nbformat_minor": 0
}